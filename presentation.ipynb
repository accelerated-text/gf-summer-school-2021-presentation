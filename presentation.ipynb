{
 "cells": [
  {
   "cell_type": "markdown",
   "metadata": {},
   "source": [
    "# GF Summer School 2021"
   ]
  },
  {
   "cell_type": "markdown",
   "metadata": {},
   "source": [
    "## Accelerated Text - low code natural language generation platform"
   ]
  },
  {
   "cell_type": "markdown",
   "metadata": {},
   "source": [
    "TODO AT image"
   ]
  },
  {
   "cell_type": "markdown",
   "metadata": {},
   "source": [
    "### Why low code?"
   ]
  },
  {
   "cell_type": "markdown",
   "metadata": {},
   "source": [
    "TODO bullet list from https://medium.com/accelerated-text/no-code-a-perfect-fit-for-natural-language-generation-bbe3027d22ed?source=collection_home---6------1-----------------------"
   ]
  },
  {
   "cell_type": "markdown",
   "metadata": {},
   "source": [
    "### Usage example - document plan developer perspective"
   ]
  },
  {
   "cell_type": "code",
   "execution_count": 2,
   "metadata": {},
   "outputs": [
    {
     "data": {
      "text/plain": [
       "{'health': 'Ok'}"
      ]
     },
     "execution_count": 2,
     "metadata": {},
     "output_type": "execute_result"
    }
   ],
   "source": [
    "from acctext import AcceleratedText\n",
    "\n",
    "at = AcceleratedText()\n",
    "at.health()"
   ]
  },
  {
   "cell_type": "code",
   "execution_count": 5,
   "metadata": {},
   "outputs": [],
   "source": [
    "at.clear_state()\n",
    "at.restore_state('resources/state.zip')"
   ]
  },
  {
   "cell_type": "markdown",
   "metadata": {},
   "source": [
    "### Building of AT\n",
    "\n",
    "* Visual programming language - Blockly\n",
    "* Document Plan. Show 'House Description'\n",
    "* AMR\n",
    "* Grammatical Framework (RGL)\n",
    "* Dictionaries -> GF (mkA, mkN...)"
   ]
  },
  {
   "cell_type": "markdown",
   "metadata": {},
   "source": [
    "\"House on the hill\"\n",
    "\n",
    "<img align=\"left\" src=\"resources/house_on_the_hill_1.png\">"
   ]
  },
  {
   "cell_type": "markdown",
   "metadata": {},
   "source": [
    "Same \"House on the hill\" via AMR implementation\n",
    "- show AMR\n",
    "- show DLG\n",
    "\n",
    "Why to do that? So that AMR encapsulates domain messages, structures etc"
   ]
  },
  {
   "cell_type": "markdown",
   "metadata": {},
   "source": [
    "Show Complex plan in AT"
   ]
  },
  {
   "cell_type": "markdown",
   "metadata": {},
   "source": [
    "Semantic graph for this\n",
    "\n",
    "\n",
    "<img align=\"left\" src=\"resources/complex_plan.png\">"
   ]
  },
  {
   "cell_type": "markdown",
   "metadata": {},
   "source": [
    "## Change plan and interact with AT"
   ]
  },
  {
   "cell_type": "markdown",
   "metadata": {},
   "source": [
    "Change the plan. Let us say I want to generate BROTHER or SISTER"
   ]
  },
  {
   "cell_type": "code",
   "execution_count": 11,
   "metadata": {},
   "outputs": [
    {
     "data": {
      "text/plain": [
       "{'id': 'sister_N_Eng',\n",
       " 'key': 'sister',\n",
       " 'forms': ['sister'],\n",
       " 'category': 'N',\n",
       " 'language': 'Eng',\n",
       " 'attributes': {}}"
      ]
     },
     "execution_count": 11,
     "metadata": {},
     "output_type": "execute_result"
    }
   ],
   "source": [
    "at.create_dictionary_item('sister', 'N', ['sister'])"
   ]
  },
  {
   "cell_type": "markdown",
   "metadata": {},
   "source": [
    "NEXT Work with data files. TODO in the file replace A, B, C with PLACE, TYPE OF DVELLING, WITH_WHO"
   ]
  },
  {
   "cell_type": "code",
   "execution_count": 7,
   "metadata": {},
   "outputs": [
    {
     "data": {
      "text/plain": [
       "{'id': 'test_data.csv'}"
      ]
     },
     "execution_count": 7,
     "metadata": {},
     "output_type": "execute_result"
    }
   ],
   "source": [
    "at.create_data_file('test_data.csv', ['A', 'B', 'C'], [[1, 2, 3], [11, 22, 33]])"
   ]
  },
  {
   "cell_type": "markdown",
   "metadata": {},
   "source": [
    "Get generation results"
   ]
  },
  {
   "cell_type": "code",
   "execution_count": 8,
   "metadata": {},
   "outputs": [
    {
     "data": {
      "text/plain": [
       "['A house was on the CCCC where he and his brother lived. It was called the old house.']"
      ]
     },
     "execution_count": 8,
     "metadata": {},
     "output_type": "execute_result"
    }
   ],
   "source": [
    "result = at.generate('Complex Plan', data={\"A\": \"CCCC\"})\n",
    "result['variants']"
   ]
  },
  {
   "cell_type": "markdown",
   "metadata": {},
   "source": [
    "You can get results for multiple data rows"
   ]
  },
  {
   "cell_type": "code",
   "execution_count": 9,
   "metadata": {},
   "outputs": [
    {
     "data": {
      "text/plain": [
       "[['A house was on the CCC where he and his brother lived. It was called the old house.'],\n",
       " ['A house was on the AAA where he and his brother lived. It was called the old house.']]"
      ]
     },
     "execution_count": 9,
     "metadata": {},
     "output_type": "execute_result"
    }
   ],
   "source": [
    "results = at.generate_bulk('Complex Plan', data=[{\"A\": \"CCC\"}, \n",
    "                                                 {\"A\": \"AAA\"}])\n",
    "[x['variants'] for x in results]"
   ]
  },
  {
   "cell_type": "markdown",
   "metadata": {},
   "source": [
    "Export State"
   ]
  },
  {
   "cell_type": "code",
   "execution_count": 10,
   "metadata": {},
   "outputs": [],
   "source": [
    "at.export_state('resources/state.zip')"
   ]
  },
  {
   "cell_type": "markdown",
   "metadata": {},
   "source": [
    "### Prototype based grammar creation\n",
    "\n",
    "* Parse non trivial sentence\n",
    "* Show how it can be abstracted. Going from a single example sentence to more possibilities.\n",
    "* Go back to JN to emphasise this part - ease of use for the end user - close the presentation.\n"
   ]
  },
  {
   "cell_type": "markdown",
   "metadata": {},
   "source": [
    "## Limitations\n",
    "\n",
    "* Parser fails to parse large section of "
   ]
  },
  {
   "cell_type": "markdown",
   "metadata": {},
   "source": [
    "## Conclusions\n",
    "\n",
    "TODO"
   ]
  },
  {
   "cell_type": "code",
   "execution_count": null,
   "metadata": {},
   "outputs": [],
   "source": []
  }
 ],
 "metadata": {
  "kernelspec": {
   "display_name": "Python 3 (ipykernel)",
   "language": "python",
   "name": "python3"
  },
  "language_info": {
   "codemirror_mode": {
    "name": "ipython",
    "version": 3
   },
   "file_extension": ".py",
   "mimetype": "text/x-python",
   "name": "python",
   "nbconvert_exporter": "python",
   "pygments_lexer": "ipython3",
   "version": "3.9.5"
  }
 },
 "nbformat": 4,
 "nbformat_minor": 4
}
