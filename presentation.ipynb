{
 "cells": [
  {
   "cell_type": "markdown",
   "metadata": {},
   "source": [
    "# Seventh GF Summer School 2021\n",
    "\n",
    "----"
   ]
  },
  {
   "cell_type": "markdown",
   "metadata": {},
   "source": [
    "<img align=\"left\" src=\"resources/accelerated-text-logo.png\" width=\"400\">"
   ]
  },
  {
   "cell_type": "markdown",
   "metadata": {},
   "source": [
    "Accelerated Text is the natural language generation engine. It will automatically create narratives highlighting outliers, describing trends, and providing explanations in the style and wording most suitable for the intended readers."
   ]
  },
  {
   "cell_type": "markdown",
   "metadata": {},
   "source": [
    "### Why low code?"
   ]
  },
  {
   "cell_type": "markdown",
   "metadata": {},
   "source": [
    "* Closed NLG systems can not react to changing requirements or previously unobserved facts.\n",
    "* Someone working in a given domain has to be able change the logic defining how data is transformed into narrative.\n",
    "* Having a domain specific abstraction above the grammar explains how text was produced given a data set. "
   ]
  },
  {
   "cell_type": "markdown",
   "metadata": {},
   "source": [
    "### Start the system"
   ]
  },
  {
   "cell_type": "markdown",
   "metadata": {},
   "source": [
    "Than start the application\n",
    "\n",
    "```\n",
    "make run-app\n",
    "```\n",
    "\n",
    "Detailed documentation at https://accelerated-text.readthedocs.io/en/latest/installation/"
   ]
  },
  {
   "cell_type": "markdown",
   "metadata": {},
   "source": [
    "### Elements of Accelerated Text\n",
    "\n",
    "* Visual programming language (Blockly)\n",
    "* Main abstractions:\n",
    "    * Document Plan\n",
    "    * Dictionary\n",
    "    * Abstract Meaning representation\n",
    "    * Grammatical Framework\n",
    "* Data Enrichment\n"
   ]
  },
  {
   "cell_type": "markdown",
   "metadata": {},
   "source": [
    "## The simpliest document plan"
   ]
  },
  {
   "cell_type": "markdown",
   "metadata": {},
   "source": [
    "Construct a very simple and not very useful plan by connecting words."
   ]
  },
  {
   "cell_type": "markdown",
   "metadata": {},
   "source": [
    "<img align=\"left\" src=\"resources/house_on_the_hill_1_dp.png\">"
   ]
  },
  {
   "cell_type": "markdown",
   "metadata": {},
   "source": [
    "### Connect with the Notebook"
   ]
  },
  {
   "cell_type": "markdown",
   "metadata": {},
   "source": [
    "Accelerated Text exposes API that allows:\n",
    "* load existing document plans\n",
    "* save document plans\n",
    "* connect data sources\n",
    "* get text generation results\n",
    "\n",
    "Full API description can be found here:\n",
    "- https://accelerated-text.readthedocs.io/en/latest/nlg-api/\n",
    "- https://accelerated-text.readthedocs.io/en/latest/graphql/"
   ]
  },
  {
   "cell_type": "code",
   "execution_count": 1,
   "metadata": {
    "scrolled": true
   },
   "outputs": [
    {
     "data": {
      "text/plain": [
       "{'health': 'Ok'}"
      ]
     },
     "execution_count": 1,
     "metadata": {},
     "output_type": "execute_result"
    }
   ],
   "source": [
    "from acctext import AcceleratedText\n",
    "\n",
    "at = AcceleratedText()\n",
    "at.health()"
   ]
  },
  {
   "cell_type": "markdown",
   "metadata": {},
   "source": [
    "Load previously constructed document plans"
   ]
  },
  {
   "cell_type": "code",
   "execution_count": 2,
   "metadata": {},
   "outputs": [],
   "source": [
    "at.clear_state()"
   ]
  },
  {
   "cell_type": "code",
   "execution_count": 3,
   "metadata": {},
   "outputs": [],
   "source": [
    "at.restore_state('resources/state.zip')"
   ]
  },
  {
   "cell_type": "markdown",
   "metadata": {},
   "source": [
    "### Abstract Meaning Representation and Domain Grammar\n",
    "\n",
    "<img align=\"left\" src=\"resources/house_on_the_hill_amr.png\" width=\"200\">\n",
    "\n",
    "\n",
    "**AMR** http://localhost:8080/amr \n",
    "\n",
    "Define high level domain specific blocks which can be used by non-linguists.\n",
    "\n",
    "\n",
    "**DLG** http://localhost:8080/dlg \n",
    "\n",
    "RGL level where grammar developers work."
   ]
  },
  {
   "cell_type": "markdown",
   "metadata": {},
   "source": [
    "### Semantic Graph"
   ]
  },
  {
   "cell_type": "markdown",
   "metadata": {},
   "source": [
    "<img align=\"left\" src=\"resources/house_on_the_hill_1.png\" width=\"200\">"
   ]
  },
  {
   "cell_type": "markdown",
   "metadata": {},
   "source": [
    "### Compex Document Plan and its Semantic Graph"
   ]
  },
  {
   "cell_type": "markdown",
   "metadata": {},
   "source": [
    "Semantic Graph for _Compex plan_"
   ]
  },
  {
   "cell_type": "markdown",
   "metadata": {},
   "source": [
    "\n",
    "\n",
    "<img align=\"left\" src=\"resources/complex_plan.png\">"
   ]
  },
  {
   "cell_type": "markdown",
   "metadata": {},
   "source": [
    "## Change plan and interact with AT"
   ]
  },
  {
   "cell_type": "markdown",
   "metadata": {},
   "source": [
    "Changing document plan can be done via modifications to:\n",
    "* dictionary\n",
    "* document plan\n",
    "* AMR or Grammar\n",
    "\n",
    "Let us say that in the house I live not just with _borther_ but with the _sister_ as well.\n",
    "\n",
    "First we need to expand the dictionary.\n"
   ]
  },
  {
   "cell_type": "code",
   "execution_count": 11,
   "metadata": {},
   "outputs": [
    {
     "data": {
      "text/plain": [
       "{'id': 'sister_N_Eng',\n",
       " 'key': 'sister',\n",
       " 'forms': ['sister'],\n",
       " 'category': 'N',\n",
       " 'language': 'Eng',\n",
       " 'attributes': {}}"
      ]
     },
     "execution_count": 11,
     "metadata": {},
     "output_type": "execute_result"
    }
   ],
   "source": [
    "at.create_dictionary_item('sister', 'N', ['sister'])"
   ]
  },
  {
   "cell_type": "markdown",
   "metadata": {},
   "source": [
    "## Working with data files"
   ]
  },
  {
   "cell_type": "markdown",
   "metadata": {},
   "source": [
    "Adding the file can be done via AT user interface or directly via API:"
   ]
  },
  {
   "cell_type": "code",
   "execution_count": 7,
   "metadata": {},
   "outputs": [
    {
     "data": {
      "text/plain": [
       "{'id': 'test_data.csv'}"
      ]
     },
     "execution_count": 7,
     "metadata": {},
     "output_type": "execute_result"
    }
   ],
   "source": [
    "at.create_data_file('test_data.csv', ['A', 'B', 'C'], [[1, 2, 3], [11, 22, 33]])"
   ]
  },
  {
   "cell_type": "markdown",
   "metadata": {},
   "source": [
    "## Adding IF and Variable blocks"
   ]
  },
  {
   "cell_type": "markdown",
   "metadata": {},
   "source": [
    "<img align=\"left\" src=\"resources/complex_plan_if_var.png\" width=\"350\">"
   ]
  },
  {
   "cell_type": "markdown",
   "metadata": {},
   "source": [
    "TODO some text here"
   ]
  },
  {
   "cell_type": "markdown",
   "metadata": {},
   "source": [
    "## Grammar automation"
   ]
  },
  {
   "cell_type": "markdown",
   "metadata": {},
   "source": [
    "<img align=\"left\" src=\"resources/syntax_graph.png\" width=\"450\">"
   ]
  },
  {
   "cell_type": "markdown",
   "metadata": {},
   "source": [
    "### Auto-transform to correct type\n",
    "\n",
    "- For example, we have an AMR with parameter of NP\n",
    "- We attach dictionary item of type N\n",
    "- Transformation takes place, that makes the argument compatible: (mkNP (mkCN x))\n",
    "\n",
    "### Modifier selection\n",
    "\n",
    "If we have a two argument operation “Pron -> NP -> NP”, and there are no ambiguities, we can use modifier block to construct this operation (“he” + “house” = “his house”)\n",
    "\n"
   ]
  },
  {
   "cell_type": "markdown",
   "metadata": {},
   "source": [
    "## Get generation results"
   ]
  },
  {
   "cell_type": "code",
   "execution_count": 8,
   "metadata": {},
   "outputs": [
    {
     "data": {
      "text/plain": [
       "['A house was on the CCCC where he and his brother lived. It was called the old house.']"
      ]
     },
     "execution_count": 8,
     "metadata": {},
     "output_type": "execute_result"
    }
   ],
   "source": [
    "result = at.generate('Complex Plan', data={\"A\": \"CCCC\"})\n",
    "result['variants']"
   ]
  },
  {
   "cell_type": "markdown",
   "metadata": {},
   "source": [
    "You can get results for multiple data rows"
   ]
  },
  {
   "cell_type": "code",
   "execution_count": 9,
   "metadata": {},
   "outputs": [
    {
     "data": {
      "text/plain": [
       "[['A house was on the CCC where he and his brother lived. It was called the old house.'],\n",
       " ['A house was on the AAA where he and his brother lived. It was called the old house.']]"
      ]
     },
     "execution_count": 9,
     "metadata": {},
     "output_type": "execute_result"
    }
   ],
   "source": [
    "results = at.generate_bulk('Complex Plan', data=[{\"A\": \"CCC\"}, \n",
    "                                                 {\"A\": \"AAA\"}])\n",
    "[x['variants'] for x in results]"
   ]
  },
  {
   "cell_type": "markdown",
   "metadata": {},
   "source": [
    "Export State"
   ]
  },
  {
   "cell_type": "code",
   "execution_count": 10,
   "metadata": {},
   "outputs": [],
   "source": [
    "at.export_state('resources/state.zip')"
   ]
  },
  {
   "cell_type": "markdown",
   "metadata": {},
   "source": [
    "## Prototype based grammar creation\n",
    "\n",
    "* Parse non trivial sentence\n",
    "* Show how it can be abstracted. Going from a single example sentence to more possibilities.\n",
    "* Go back to JN to emphasise this part - ease of use for the end user - close the presentation.\n"
   ]
  },
  {
   "cell_type": "markdown",
   "metadata": {},
   "source": [
    "Generate grammar `make build-grammar`"
   ]
  },
  {
   "cell_type": "markdown",
   "metadata": {},
   "source": [
    "```clojure\n",
    "[{:name        \"Located\"\n",
    "  :description \"Object_N -> Location_N -> Clause\"\n",
    "  :category    \"Cl\"\n",
    "  :frames      [\"house on the hill\"]\n",
    "  :arguments   [{:name \"Object\" :category \"N\" :key \"house\"}\n",
    "                {:name \"Location\" :category \"N\" :key \"hill\"}]}]\n",
    "```"
   ]
  },
  {
   "cell_type": "markdown",
   "metadata": {},
   "source": [
    "## Building blocks outside GF"
   ]
  },
  {
   "cell_type": "markdown",
   "metadata": {},
   "source": [
    "- data enrichment (Wikifunctions or our)\n",
    "- ability to add any \"text/data to text\" functions"
   ]
  },
  {
   "cell_type": "markdown",
   "metadata": {},
   "source": [
    "## Further development\n",
    "\n",
    "\n",
    "* Parser fails to parse large section of sentences\n",
    "* Difficulty in naming things (like AMRs and their parameters). Joining FrameNet and AMR.\n",
    "* Building reusable AMR"
   ]
  },
  {
   "cell_type": "markdown",
   "metadata": {},
   "source": [
    "## Last but not least - it is all built with functional language"
   ]
  },
  {
   "cell_type": "markdown",
   "metadata": {},
   "source": [
    "```clojure\n",
    "(defn generate-text [semantic-graph context lang]\n",
    "  (map (fn [{:keys [text]}]\n",
    "         {:text     text\n",
    "          :language lang\n",
    "          :readers  (:readers context)\n",
    "          :tokens   (nlp/annotate text)})\n",
    "       (-> semantic-graph\n",
    "           (grammar/build-grammar (build-context context lang))\n",
    "           (gf-service/request lang))))\n",
    "```"
   ]
  }
 ],
 "metadata": {
  "kernelspec": {
   "display_name": "Python 3 (ipykernel)",
   "language": "python",
   "name": "python3"
  },
  "language_info": {
   "codemirror_mode": {
    "name": "ipython",
    "version": 3
   },
   "file_extension": ".py",
   "mimetype": "text/x-python",
   "name": "python",
   "nbconvert_exporter": "python",
   "pygments_lexer": "ipython3",
   "version": "3.9.5"
  }
 },
 "nbformat": 4,
 "nbformat_minor": 4
}
